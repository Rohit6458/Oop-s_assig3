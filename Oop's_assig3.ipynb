{
 "cells": [
  {
   "cell_type": "markdown",
   "id": "c9080360-582e-4798-a448-4456bf78d6be",
   "metadata": {},
   "source": [
    "1)->"
   ]
  },
  {
   "cell_type": "code",
   "execution_count": 8,
   "id": "889f1349-2fd2-41b7-b249-79286d049763",
   "metadata": {},
   "outputs": [],
   "source": [
    "class vechile:\n",
    "    def __init__(self, name_of_vechile, max_speed, average_speed):\n",
    "        self.name_of_vechile=name_of_vechile\n",
    "        self.max_speed=max_speed\n",
    "        self.average_speed=average_speed\n",
    "    \n",
    "    def show_details(self):\n",
    "        return(self.name_of_vechile, self.max_speed, self.average_speed)"
   ]
  },
  {
   "cell_type": "code",
   "execution_count": 9,
   "id": "20a61251-1ab0-4aec-91e7-999a9c36612f",
   "metadata": {},
   "outputs": [],
   "source": [
    "kia=vechile(\"kia400\",100,50)"
   ]
  },
  {
   "cell_type": "code",
   "execution_count": 10,
   "id": "39c8bf83-94d0-4518-b7f0-2790872bd8d4",
   "metadata": {},
   "outputs": [
    {
     "data": {
      "text/plain": [
       "('kia400', 100, 50)"
      ]
     },
     "execution_count": 10,
     "metadata": {},
     "output_type": "execute_result"
    }
   ],
   "source": [
    "kia.show_details()"
   ]
  },
  {
   "cell_type": "code",
   "execution_count": 12,
   "id": "92810618-74d2-45f4-bb0c-a33e8c01bfeb",
   "metadata": {},
   "outputs": [],
   "source": [
    "class vechile:\n",
    "    def __init__(self, name,speed,average):\n",
    "        self.name=name\n",
    "        self.speed=speed\n",
    "        self.average=average\n",
    "    "
   ]
  },
  {
   "cell_type": "code",
   "execution_count": 22,
   "id": "64723bb7-4529-42c3-8446-31397987a105",
   "metadata": {},
   "outputs": [],
   "source": [
    "class car(vechile):\n",
    "    def capacity(self, a):\n",
    "        self.a=a\n",
    "    def show_details(self):\n",
    "        return(self.name, self.speed, self.average, self.a)"
   ]
  },
  {
   "cell_type": "code",
   "execution_count": 23,
   "id": "eeabd679-53aa-4009-a4eb-d757dc8182fe",
   "metadata": {},
   "outputs": [],
   "source": [
    "kia=car(\"kia400\",100,50)"
   ]
  },
  {
   "cell_type": "code",
   "execution_count": 24,
   "id": "7c65e62a-a532-44e4-b6d0-29cfa951e353",
   "metadata": {},
   "outputs": [],
   "source": [
    "kia.capacity(6)"
   ]
  },
  {
   "cell_type": "code",
   "execution_count": 25,
   "id": "65d7c57b-74c3-4f17-a35d-fdf9f1b02861",
   "metadata": {},
   "outputs": [
    {
     "data": {
      "text/plain": [
       "('kia400', 100, 50, 6)"
      ]
     },
     "execution_count": 25,
     "metadata": {},
     "output_type": "execute_result"
    }
   ],
   "source": [
    "kia.show_details()"
   ]
  },
  {
   "cell_type": "code",
   "execution_count": 26,
   "id": "bc9e1d72-3eee-4808-82e0-b5ebf79162a0",
   "metadata": {},
   "outputs": [],
   "source": [
    "ford=car(\"Ford-XY\",150,80)"
   ]
  },
  {
   "cell_type": "code",
   "execution_count": 27,
   "id": "22c1986f-e99c-4a5e-8521-cb3efad90cb6",
   "metadata": {},
   "outputs": [],
   "source": [
    "ford.capacity(4)"
   ]
  },
  {
   "cell_type": "code",
   "execution_count": 28,
   "id": "5ce6dc6f-2e68-4533-bd9c-a5585ecebbec",
   "metadata": {},
   "outputs": [
    {
     "data": {
      "text/plain": [
       "('Ford-XY', 150, 80, 4)"
      ]
     },
     "execution_count": 28,
     "metadata": {},
     "output_type": "execute_result"
    }
   ],
   "source": [
    "ford.show_details()"
   ]
  },
  {
   "cell_type": "markdown",
   "id": "5d67b496-f0bf-488a-accd-874ed1d841b4",
   "metadata": {},
   "source": [
    "3)-> Multiple inheritance means inherit property from two parent classes\n",
    "e.g:-"
   ]
  },
  {
   "cell_type": "code",
   "execution_count": 39,
   "id": "a508d601-43ee-4c5e-938a-f5063d55ce54",
   "metadata": {},
   "outputs": [],
   "source": [
    "class father:\n",
    "    def father1(self):\n",
    "        return(\"I am father class\")"
   ]
  },
  {
   "cell_type": "code",
   "execution_count": 40,
   "id": "48fdb807-968c-4deb-b08e-c1d62db8e0c8",
   "metadata": {},
   "outputs": [],
   "source": [
    "class mother:\n",
    "    def mother1(self):\n",
    "        return(\"I am mother class\")"
   ]
  },
  {
   "cell_type": "code",
   "execution_count": 41,
   "id": "1e85619c-28c8-4579-afe9-0309b38a00e2",
   "metadata": {},
   "outputs": [],
   "source": [
    "class child(father, mother):\n",
    "    pass"
   ]
  },
  {
   "cell_type": "code",
   "execution_count": 42,
   "id": "5d240bbd-97ff-4c2a-9400-5684efa7445b",
   "metadata": {},
   "outputs": [],
   "source": [
    "child1=child()"
   ]
  },
  {
   "cell_type": "code",
   "execution_count": 33,
   "id": "909f4028-8d84-454d-b5a2-de0325c1b28b",
   "metadata": {},
   "outputs": [
    {
     "data": {
      "text/plain": [
       "'I am father class'"
      ]
     },
     "execution_count": 33,
     "metadata": {},
     "output_type": "execute_result"
    }
   ],
   "source": [
    "child1.father()"
   ]
  },
  {
   "cell_type": "code",
   "execution_count": 38,
   "id": "555e9649-2f3c-4d2d-b40d-5c9d80489fc6",
   "metadata": {},
   "outputs": [
    {
     "data": {
      "text/plain": [
       "'I am father class'"
      ]
     },
     "execution_count": 38,
     "metadata": {},
     "output_type": "execute_result"
    }
   ],
   "source": [
    "child1.mother1()"
   ]
  },
  {
   "cell_type": "markdown",
   "id": "bddbf89a-aa3f-4350-a482-1ccffa49a14c",
   "metadata": {},
   "source": [
    "4)-> getter and setter are used for modify the private data, getter and setter method are also known  as mutator and sucessar.getter method are return data and setter method are used to modify or set the data\n",
    "e.g:-"
   ]
  },
  {
   "cell_type": "code",
   "execution_count": 43,
   "id": "eb7cc3e1-a0dc-4879-8042-270e476abc3e",
   "metadata": {},
   "outputs": [],
   "source": [
    "class employer:\n",
    "    def __init__(self,name, dept):\n",
    "        self.__name=name\n",
    "        self.__dept=dept\n",
    "    \n",
    "    def getter(self):\n",
    "        return(self.__name, self.__dept)\n",
    "    \n",
    "    def setter(self,name):\n",
    "        self.__name=name"
   ]
  },
  {
   "cell_type": "code",
   "execution_count": 44,
   "id": "b407de85-a924-4b6b-befd-8a5d29d33bff",
   "metadata": {},
   "outputs": [],
   "source": [
    "emp=employer(\"Rohit\",\"IT\")"
   ]
  },
  {
   "cell_type": "code",
   "execution_count": 45,
   "id": "181cd5d6-b3b5-425d-bd78-aecdb60690e4",
   "metadata": {},
   "outputs": [
    {
     "data": {
      "text/plain": [
       "('Rohit', 'IT')"
      ]
     },
     "execution_count": 45,
     "metadata": {},
     "output_type": "execute_result"
    }
   ],
   "source": [
    "emp.getter()"
   ]
  },
  {
   "cell_type": "code",
   "execution_count": 46,
   "id": "9d4c0c62-61a2-4d53-a730-0df8661aa422",
   "metadata": {},
   "outputs": [],
   "source": [
    "emp.setter(\"Suraj\")"
   ]
  },
  {
   "cell_type": "code",
   "execution_count": null,
   "id": "00f9bca3-1ca5-4fe1-b94d-5344fa35fa71",
   "metadata": {},
   "outputs": [],
   "source": [
    "emp.getter()"
   ]
  },
  {
   "cell_type": "markdown",
   "id": "a03b1995-ece0-4e4c-8915-173ea6e0177e",
   "metadata": {},
   "source": [
    "5)-> method overriding it is part of polymorphism, method overriding we can achive in polymorphism, Parent and child class are contain same method "
   ]
  },
  {
   "cell_type": "code",
   "execution_count": 67,
   "id": "b01006ad-90d7-4680-9fa7-d24c547ba72a",
   "metadata": {},
   "outputs": [],
   "source": [
    "class parent:\n",
    "    def show(self):\n",
    "        return(\"I am parent class\")"
   ]
  },
  {
   "cell_type": "code",
   "execution_count": 69,
   "id": "b465547f-519a-47e4-85bc-92c8a0021921",
   "metadata": {},
   "outputs": [],
   "source": [
    "class child(parent):\n",
    "    def show(self):\n",
    "        return(\"I am child class\")"
   ]
  },
  {
   "cell_type": "code",
   "execution_count": 70,
   "id": "6f9eaeae-2578-41dd-8d9d-23958d70e45d",
   "metadata": {},
   "outputs": [],
   "source": [
    "test=child()"
   ]
  },
  {
   "cell_type": "code",
   "execution_count": 71,
   "id": "d7485962-e612-453e-bfac-039cb30889cb",
   "metadata": {},
   "outputs": [
    {
     "data": {
      "text/plain": [
       "'I am child class'"
      ]
     },
     "execution_count": 71,
     "metadata": {},
     "output_type": "execute_result"
    }
   ],
   "source": [
    "test.show()"
   ]
  },
  {
   "cell_type": "code",
   "execution_count": null,
   "id": "debe2f33-7ee5-47f0-9be5-4816a435a5a2",
   "metadata": {},
   "outputs": [],
   "source": []
  }
 ],
 "metadata": {
  "kernelspec": {
   "display_name": "Python 3 (ipykernel)",
   "language": "python",
   "name": "python3"
  },
  "language_info": {
   "codemirror_mode": {
    "name": "ipython",
    "version": 3
   },
   "file_extension": ".py",
   "mimetype": "text/x-python",
   "name": "python",
   "nbconvert_exporter": "python",
   "pygments_lexer": "ipython3",
   "version": "3.10.8"
  }
 },
 "nbformat": 4,
 "nbformat_minor": 5
}
